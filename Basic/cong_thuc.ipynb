{
 "metadata": {
  "language_info": {
   "codemirror_mode": {
    "name": "ipython",
    "version": 3
   },
   "file_extension": ".py",
   "mimetype": "text/x-python",
   "name": "python",
   "nbconvert_exporter": "python",
   "pygments_lexer": "ipython3",
   "version": "3.8.6-final"
  },
  "orig_nbformat": 2,
  "kernelspec": {
   "name": "python3",
   "display_name": "Python 3.8.6 64-bit",
   "metadata": {
    "interpreter": {
     "hash": "1baa965d5efe3ac65b79dfc60c0d706280b1da80fedb7760faf2759126c4f253"
    }
   }
  }
 },
 "nbformat": 4,
 "nbformat_minor": 2,
 "cells": [
  {
   "cell_type": "code",
   "execution_count": 7,
   "metadata": {},
   "outputs": [],
   "source": [
    "import pandas as pd\n",
    "import numpy as np\n",
    "\n",
    "mPath1 = r'D:\\Study\\15.Python\\Pandas\\excel_file\\FU-WEC-C-7000-4535.xlsx'\n",
    "mPath2 = r'D:\\Study\\15.Python\\Pandas\\excel_file\\FU-WEC-C-1000-4534.xlsx'\n",
    "\n",
    "path_list = [mPath1,mPath2]\n",
    "def Creat_df(path):\n",
    "    df = pd.read_excel(path, sheet_name=0, usecols=range(1,10), \n",
    "    skipfooter=5, skiprows=16, dtype='str')\n",
    "    df = df.dropna(how ='all')\n",
    "    df = df.fillna(0)\n",
    "    df = df.reset_index(drop = True)\n",
    "    df['DB'] = df['DB'].astype('float')\n",
    "    df['joint_id'] = df['Spool No.']+'\\\\'+df['Iso. Dwg. No.']+'\\\\'+df['Joint No.']\n",
    "    \n",
    "    return df\n",
    "\n",
    "mdf = []\n",
    "for path in path_list:\n",
    "    df = Creat_df(path)\n",
    "    mdf.append(df)"
   ]
  },
  {
   "cell_type": "code",
   "execution_count": 8,
   "metadata": {},
   "outputs": [
    {
     "output_type": "execute_result",
     "data": {
      "text/plain": [
       "0    1000-01101\\1000-RN-21G13-02-1/2\\004\n",
       "1    1000-01101\\1000-RN-21G13-02-1/2\\005\n",
       "2    1000-01101\\1000-RN-21G13-02-1/2\\006\n",
       "Name: joint_id, dtype: object"
      ]
     },
     "metadata": {},
     "execution_count": 8
    }
   ],
   "source": [
    "mdf[1]['joint_id']"
   ]
  },
  {
   "cell_type": "code",
   "execution_count": null,
   "metadata": {},
   "outputs": [],
   "source": []
  }
 ]
}