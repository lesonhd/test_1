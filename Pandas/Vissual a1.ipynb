{
 "cells": [
  {
   "cell_type": "code",
   "execution_count": 26,
   "metadata": {},
   "outputs": [],
   "source": [
    "import pandas as pd\r\n",
    "import numpy as np\r\n",
    "import openpyxl \r\n",
    "from openpyxl import load_workbook\r\n",
    "from openpyxl.utils.dataframe import dataframe_to_rows\r\n",
    "\r\n",
    "# Lấy dữ liệu từ CMS\r\n",
    "mPath = r'E:\\\\Onedrive\\\\9.Packet A1\\\\9.QA-QC-WE\\\\WEC-CMS-Flare.xlsx'\r\n",
    "Cot_sudung = [0,1,2,10,5,12,8,19,14,17,18,21]\r\n",
    "df = pd.read_excel(mPath,sheet_name=0, skiprows=5, usecols=Cot_sudung)\r\n",
    "\r\n",
    "#  Tạo ra các cột mới\r\n",
    "df['Drawing_sheet'] = df['Drawing No']+'-Sheet-'+df['Sheet No']\r\n",
    "df['Trace-before'] = ''\r\n",
    "df['Trace-After'] = ''\r\n",
    "df['Spool'] = ''\r\n",
    "df['Fit-up-A'] = 'A'\r\n",
    "df['Welding-A'] = 'A'\r\n",
    "df['Gap'] = 'N/A'\r\n",
    "df['Signed-A'] = 'A'\r\n",
    "\r\n",
    "# Sắp xếp lại các cột và loại bỏ cột không cần thiết\r\n",
    "df1 = df[df.columns[[12,2,15,5,3,6,13,14,4,16,17,10,18,7,8,9,19,11]]]\r\n",
    "\r\n"
   ]
  },
  {
   "cell_type": "code",
   "execution_count": 27,
   "metadata": {},
   "outputs": [],
   "source": [
    "# Lấy danh sách các số báo cáo cần tạo\r\n",
    "Path_report_list = r'E:\\\\Onedrive\\\\9.Packet A1\\\\9.QA-QC-WE\\\\2.Visual\\\\List_report_python.xlsm'\r\n",
    "df_report = pd.read_excel(Path_report_list)\r\n",
    "report_dic = df_report.to_dict()\r\n",
    "report_list = list(report_dic['list_report'].values())\r\n"
   ]
  },
  {
   "cell_type": "code",
   "execution_count": 31,
   "metadata": {},
   "outputs": [],
   "source": [
    "def tao_bao_cao(report_1):\r\n",
    "    # Làm thử 1 báo cáo\r\n",
    "    # report_1 = report_list[0]\r\n",
    "    df_rp1 = df1.loc[df1['Visual Report']==report_1]\r\n",
    "    rows = dataframe_to_rows(df_rp1,index=False, header=False)\r\n",
    "    # Load from vào openpyxl\r\n",
    "    m_path_form = r'E:\\\\Onedrive\\\\9.Packet A1\\\\9.QA-QC-WE\\\\2.Visual\\\\Welding Form W24.xlsx'\r\n",
    "    wb = load_workbook(m_path_form, read_only= False)\r\n",
    "    ws = wb.worksheets[0]\r\n",
    "    # Xóa dòng thừa\r\n",
    "    ws.delete_rows(208-(200-len(df_rp1.index)),200-len(df_rp1.index)-1)\r\n",
    "    i = 9\r\n",
    "    for row in rows:\r\n",
    "        for y in range(1,18):\r\n",
    "            ws.cell(column=y,row=i, value=row[y-1])\r\n",
    "        i = i+1\r\n",
    "\r\n",
    "    ws.cell(column=17, row= 4, value= row[17])\r\n",
    "    ws.cell(column=2, row= 5, value= row[11])\r\n",
    "    # chỉnh lại chỗ note\r\n",
    "    ws.merge_cells(start_row=(208-(200-len(df_rp1.index))+2),start_column= 1 , \r\n",
    "        end_row=(208-(200-len(df_rp1.index))+2), end_column=18)\r\n",
    "    ws.row_dimensions[208-(200-len(df_rp1.index))+2].height = 70\r\n",
    "\r\n",
    "    # Chỉnh lại chỗ chữ ký\r\n",
    "    for i in range(3,7):\r\n",
    "        ws.merge_cells(start_row=(208-(200-len(df_rp1.index))+i),start_column= 2 , \r\n",
    "        end_row=(208-(200-len(df_rp1.index))+i), end_column=7)\r\n",
    "\r\n",
    "        ws.merge_cells(start_row=(208-(200-len(df_rp1.index))+i),start_column= 8 , \r\n",
    "        end_row=(208-(200-len(df_rp1.index))+i), end_column=13)\r\n",
    "\r\n",
    "        ws.merge_cells(start_row=(208-(200-len(df_rp1.index))+i),start_column= 14 , \r\n",
    "        end_row=(208-(200-len(df_rp1.index))+i), end_column=18)\r\n",
    "\r\n",
    "    wb.save(r'E:\\\\Onedrive\\\\9.Packet A1\\\\9.QA-QC-WE\\\\2.Visual' + '\\\\\\\\'+ report_1[12:] +'.xlsx')\r\n",
    "    wb.close()\r\n",
    "\r\n",
    "for rp in report_list:\r\n",
    "    tao_bao_cao(rp)"
   ]
  }
 ],
 "metadata": {
  "interpreter": {
   "hash": "ac59ebe37160ed0dfa835113d9b8498d9f09ceb179beaac4002f036b9467c963"
  },
  "kernelspec": {
   "display_name": "Python 3.9.5 64-bit",
   "name": "python3"
  },
  "language_info": {
   "codemirror_mode": {
    "name": "ipython",
    "version": 3
   },
   "file_extension": ".py",
   "mimetype": "text/x-python",
   "name": "python",
   "nbconvert_exporter": "python",
   "pygments_lexer": "ipython3",
   "version": "3.9.5"
  },
  "orig_nbformat": 4
 },
 "nbformat": 4,
 "nbformat_minor": 2
}