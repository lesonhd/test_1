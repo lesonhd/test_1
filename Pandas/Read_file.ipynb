{
 "metadata": {
  "language_info": {
   "codemirror_mode": {
    "name": "ipython",
    "version": 3
   },
   "file_extension": ".py",
   "mimetype": "text/x-python",
   "name": "python",
   "nbconvert_exporter": "python",
   "pygments_lexer": "ipython3",
   "version": "3.8.6-final"
  },
  "orig_nbformat": 2,
  "kernelspec": {
   "name": "python3",
   "display_name": "Python 3.8.6 64-bit",
   "metadata": {
    "interpreter": {
     "hash": "1baa965d5efe3ac65b79dfc60c0d706280b1da80fedb7760faf2759126c4f253"
    }
   }
  }
 },
 "nbformat": 4,
 "nbformat_minor": 2,
 "cells": [
  {
   "cell_type": "code",
   "execution_count": 1,
   "metadata": {},
   "outputs": [],
   "source": [
    "import pandas as pd\n",
    "import numpy as np\n",
    "from openpyxl import load_workbook\n",
    "\n",
    "#  Đặt đường dẫn đến các file FU và file data\n",
    "\n",
    "mpath2 = r'D:\\Study\\15.Python\\Pandas\\excel_file\\FU-WEC-C-7000-4535.xlsx'\n",
    "\n",
    "\n",
    "data_path = r'D:\\Study\\15.Python\\Pandas\\excel_file\\CMS-Pipe-Test.xlsm'\n",
    "\n",
    "# Chèn module đã tạo vào trong scrip\n",
    "from module_update import fu_report, fu_data\n",
    "report_df = fu_report.create_fu_data(mpath2)\n",
    "\n",
    "# date_rp = fu_report.list_date_report(mpath2)\n",
    "# report_no = fu_report.list_report_no(mpath2)\n",
    "data_df = fu_data.create_joint_data(data_path)"
   ]
  },
  {
   "cell_type": "code",
   "execution_count": 17,
   "metadata": {},
   "outputs": [
    {
     "output_type": "stream",
     "name": "stdout",
     "text": [
      "[46987, 46991, 46992, 73151, 73152, 73445, 81544]\n[]\n[46986]\n"
     ]
    }
   ],
   "source": [
    "joint_bc=[]\n",
    "joint_trung=[]\n",
    "joint_koupdate = []\n",
    "for i in report_df['joint_id'].index:\n",
    "    data_df_ss= data_df[data_df['joint_id']==report_df['joint_id'][i]]\n",
    "    # So sánh joint id và DB\n",
    "    if ((len(data_df_ss.index)!=0) & \n",
    "        (report_df['DB'][i]==data_df_ss['DB'][data_df_ss['joint_id'].index[0]])):\n",
    "        # Nếu đúng --> ô report có phải ô trống không\n",
    "        if pd.isna(data_df_ss['Report_FU'][data_df_ss['joint_id'].index[0]]):\n",
    "            # Nếu đúng thêm joint vào list joint sẽ được update\n",
    "            joint_bc.append(data_df_ss['joint_id'].index[0])\n",
    "        else:\n",
    "            # Nếu sai thêm váo list mối bị trùng\n",
    "            joint_trung.append(data_df_ss['joint_id'].index[0])\n",
    "    else:\n",
    "        # Nếu Sai them vào list không update được\n",
    "        joint_koupdate.append(data_df_ss['joint_id'].index[0])\n",
    "print(joint_bc)\n",
    "print(joint_trung)\n",
    "print(joint_koupdate)"
   ]
  },
  {
   "cell_type": "code",
   "execution_count": 10,
   "metadata": {},
   "outputs": [
    {
     "output_type": "execute_result",
     "data": {
      "text/plain": [
       "True"
      ]
     },
     "metadata": {},
     "execution_count": 10
    }
   ],
   "source": [
    "pd.isna(data_df_ss['Report_FU'][data_df_ss['joint_id'].index[0]])\n"
   ]
  },
  {
   "cell_type": "code",
   "execution_count": null,
   "metadata": {},
   "outputs": [],
   "source": []
  }
 ]
}