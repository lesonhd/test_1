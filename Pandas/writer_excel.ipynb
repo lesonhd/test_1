{
 "metadata": {
  "language_info": {
   "codemirror_mode": {
    "name": "ipython",
    "version": 3
   },
   "file_extension": ".py",
   "mimetype": "text/x-python",
   "name": "python",
   "nbconvert_exporter": "python",
   "pygments_lexer": "ipython3",
   "version": "3.8.6-final"
  },
  "orig_nbformat": 2,
  "kernelspec": {
   "name": "python3",
   "display_name": "Python 3.8.6 64-bit",
   "metadata": {
    "interpreter": {
     "hash": "1baa965d5efe3ac65b79dfc60c0d706280b1da80fedb7760faf2759126c4f253"
    }
   }
  }
 },
 "nbformat": 4,
 "nbformat_minor": 2,
 "cells": [
  {
   "cell_type": "code",
   "execution_count": 1,
   "metadata": {},
   "outputs": [],
   "source": [
    "import pandas as pd\n",
    "import numpy as np\n",
    "import openpyxl\n",
    "from openpyxl import load_workbook\n",
    "from datetime import date\n",
    "\n",
    "m_rp = r'D:\\Study\\15.Python\\Pandas\\excel_file\\FU-WEC-C-7000-4535.xlsx'\n",
    "\n",
    "rp_num_df = pd.read_excel(m_rp,usecols='I', skiprows=5, header=0)\n",
    "rp_num_df = rp_num_df.filter(items=[0], axis=0)"
   ]
  },
  {
   "cell_type": "code",
   "execution_count": 2,
   "metadata": {},
   "outputs": [],
   "source": [
    "# Viết vào file test\n",
    "m_list = [1,2,5,7]\n",
    "m_data = r'D:\\Study\\15.Python\\Pandas\\test.xlsx'"
   ]
  },
  {
   "cell_type": "code",
   "execution_count": 4,
   "metadata": {},
   "outputs": [],
   "source": [
    "for i in m_list:\n",
    "    with pd.ExcelWriter(m_data,mode='w', engine='openpyxl') as writer:\n",
    "        rp_num_df.to_excel(writer, header=False, index= False, startcol=7, startrow=i, sheet_name='Sheet1')"
   ]
  },
  {
   "cell_type": "code",
   "execution_count": null,
   "metadata": {},
   "outputs": [],
   "source": []
  }
 ]
}