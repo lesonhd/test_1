{
 "metadata": {
  "language_info": {
   "codemirror_mode": {
    "name": "ipython",
    "version": 3
   },
   "file_extension": ".py",
   "mimetype": "text/x-python",
   "name": "python",
   "nbconvert_exporter": "python",
   "pygments_lexer": "ipython3",
   "version": "3.8.6-final"
  },
  "orig_nbformat": 2,
  "kernelspec": {
   "name": "python3",
   "display_name": "Python 3.8.6 64-bit",
   "metadata": {
    "interpreter": {
     "hash": "1baa965d5efe3ac65b79dfc60c0d706280b1da80fedb7760faf2759126c4f253"
    }
   }
  }
 },
 "nbformat": 4,
 "nbformat_minor": 2,
 "cells": [
  {
   "cell_type": "code",
   "execution_count": 2,
   "metadata": {},
   "outputs": [],
   "source": [
    "import pandas as pd\n",
    "import numpy as np\n",
    "from openpyxl import load_workbook\n",
    "import os\n",
    "from tkinter import filedialog\n",
    "\n",
    "from module_update import fu_report, fu_data\n",
    "data_path = r'D:\\Study\\15.Python\\Pandas\\excel_file\\CMS-Pipe-Test.xlsm'\n",
    "# tạo dataframe cho joint data\n",
    "data_df = fu_data.create_joint_data(data_path)"
   ]
  },
  {
   "cell_type": "code",
   "execution_count": 3,
   "metadata": {},
   "outputs": [],
   "source": [
    "mFolder = filedialog.askdirectory(title='Chon Folder Fit-up update')\n"
   ]
  },
  {
   "cell_type": "code",
   "execution_count": 4,
   "metadata": {},
   "outputs": [],
   "source": [
    "mpath = []\n",
    "for links, folders, files in os.walk(mFolder):\n",
    "    for file in files:\n",
    "        f = [os.path.join(links,file)]\n",
    "        mpath.extend(f)"
   ]
  },
  {
   "cell_type": "code",
   "execution_count": 5,
   "metadata": {},
   "outputs": [],
   "source": [
    "# from module_update import fu_report, fu_data\n",
    "\n",
    "# Tạo dataframe cho FU\n",
    "fu_df = []\n",
    "for path in mpath:\n",
    "    df = fu_report.create_fu_data(path)\n",
    "    fu_df.append(df)"
   ]
  },
  {
   "cell_type": "code",
   "execution_count": 1,
   "metadata": {},
   "outputs": [
    {
     "output_type": "error",
     "ename": "SyntaxError",
     "evalue": "invalid syntax (<ipython-input-1-79f55ad6ecfd>, line 12)",
     "traceback": [
      "\u001b[1;36m  File \u001b[1;32m\"<ipython-input-1-79f55ad6ecfd>\"\u001b[1;36m, line \u001b[1;32m12\u001b[0m\n\u001b[1;33m    if pd.isna(data_df_ss['Report_FU'][data_df_ss['joint_id'].index[0]]):\u001b[0m\n\u001b[1;37m    ^\u001b[0m\n\u001b[1;31mSyntaxError\u001b[0m\u001b[1;31m:\u001b[0m invalid syntax\n"
     ]
    }
   ],
   "source": [
    "def compare_fun(report_dataFrame,data_dataFrame):\n",
    "    joint_bc=[]\n",
    "    joint_trung=[]\n",
    "    joint_koupdate = []\n",
    "    for i in report_dataFrame['joint_id'].index:\n",
    "        data_df_ss= data_dataFrame[data_dataFrame['joint_id']==report_dataFrame['joint_id'][i]]\n",
    "        # Kiểm tra xem data_df_ss có phải rỗng ko\n",
    "        if len(data_df_ss.index)==0:\n",
    "            # Nếu đúng đưa ngay i vào list ko update được.\n",
    "            joint_koupdate.append(i)\n",
    "        elif report_dataFrame['DB'][i]==data_df_ss['DB'][data_df_ss['joint_id'].index[0]:\n",
    "            if pd.isna(data_df_ss['Report_FU'][data_df_ss['joint_id'].index[0]]):\n",
    "                # Nếu đúng thêm joint vào list joint sẽ được update\n",
    "                joint_bc.append((data_df_ss['joint_id'].index[0]+7))\n",
    "            else:\n",
    "                # Nếu sai thêm váo list mối bị trùng\n",
    "                joint_trung.append(data_df_ss['joint_id'].index[0])\n",
    "        else:\n",
    "            joint_koupdate.append(i)\n",
    "            \n",
    "    return joint_bc, joint_trung, joint_koupdate"
   ]
  },
  {
   "cell_type": "code",
   "execution_count": 7,
   "metadata": {},
   "outputs": [
    {
     "output_type": "error",
     "ename": "IndexError",
     "evalue": "index 0 is out of bounds for axis 0 with size 0",
     "traceback": [
      "\u001b[1;31m---------------------------------------------------------------------------\u001b[0m",
      "\u001b[1;31mIndexError\u001b[0m                                Traceback (most recent call last)",
      "\u001b[1;32m<ipython-input-7-5ac5b5bbd606>\u001b[0m in \u001b[0;36m<module>\u001b[1;34m\u001b[0m\n\u001b[0;32m      1\u001b[0m \u001b[0mlist_compare\u001b[0m \u001b[1;33m=\u001b[0m \u001b[1;33m[\u001b[0m\u001b[1;33m]\u001b[0m\u001b[1;33m\u001b[0m\u001b[1;33m\u001b[0m\u001b[0m\n\u001b[0;32m      2\u001b[0m \u001b[1;32mfor\u001b[0m \u001b[0mdf_rp\u001b[0m \u001b[1;32min\u001b[0m \u001b[0mfu_df\u001b[0m\u001b[1;33m:\u001b[0m\u001b[1;33m\u001b[0m\u001b[1;33m\u001b[0m\u001b[0m\n\u001b[1;32m----> 3\u001b[1;33m     \u001b[0mt\u001b[0m \u001b[1;33m=\u001b[0m \u001b[0mcompare_fun\u001b[0m\u001b[1;33m(\u001b[0m\u001b[0mdf_rp\u001b[0m\u001b[1;33m,\u001b[0m\u001b[0mdata_df\u001b[0m\u001b[1;33m)\u001b[0m\u001b[1;33m\u001b[0m\u001b[1;33m\u001b[0m\u001b[0m\n\u001b[0m\u001b[0;32m      4\u001b[0m     \u001b[0mlist_compare\u001b[0m\u001b[1;33m.\u001b[0m\u001b[0mappend\u001b[0m\u001b[1;33m(\u001b[0m\u001b[0mt\u001b[0m\u001b[1;33m)\u001b[0m\u001b[1;33m\u001b[0m\u001b[1;33m\u001b[0m\u001b[0m\n",
      "\u001b[1;32m<ipython-input-6-a0840228c55c>\u001b[0m in \u001b[0;36mcompare_fun\u001b[1;34m(report_dataFrame, data_dataFrame)\u001b[0m\n\u001b[0;32m      7\u001b[0m         \u001b[1;31m# So sánh joint id và DB\u001b[0m\u001b[1;33m\u001b[0m\u001b[1;33m\u001b[0m\u001b[1;33m\u001b[0m\u001b[0m\n\u001b[0;32m      8\u001b[0m         if ((len(data_df_ss.index)!=0) & \n\u001b[1;32m----> 9\u001b[1;33m             (report_dataFrame['DB'][i]==data_df_ss['DB'][data_df_ss['joint_id'].index[0]])):\n\u001b[0m\u001b[0;32m     10\u001b[0m             \u001b[1;31m# Nếu đúng --> ô report có phải ô trống không\u001b[0m\u001b[1;33m\u001b[0m\u001b[1;33m\u001b[0m\u001b[1;33m\u001b[0m\u001b[0m\n\u001b[0;32m     11\u001b[0m             \u001b[1;32mif\u001b[0m \u001b[0mpd\u001b[0m\u001b[1;33m.\u001b[0m\u001b[0misna\u001b[0m\u001b[1;33m(\u001b[0m\u001b[0mdata_df_ss\u001b[0m\u001b[1;33m[\u001b[0m\u001b[1;34m'Report_FU'\u001b[0m\u001b[1;33m]\u001b[0m\u001b[1;33m[\u001b[0m\u001b[0mdata_df_ss\u001b[0m\u001b[1;33m[\u001b[0m\u001b[1;34m'joint_id'\u001b[0m\u001b[1;33m]\u001b[0m\u001b[1;33m.\u001b[0m\u001b[0mindex\u001b[0m\u001b[1;33m[\u001b[0m\u001b[1;36m0\u001b[0m\u001b[1;33m]\u001b[0m\u001b[1;33m]\u001b[0m\u001b[1;33m)\u001b[0m\u001b[1;33m:\u001b[0m\u001b[1;33m\u001b[0m\u001b[1;33m\u001b[0m\u001b[0m\n",
      "\u001b[1;32mC:\\Program Files\\Python38\\lib\\site-packages\\pandas\\core\\indexes\\base.py\u001b[0m in \u001b[0;36m__getitem__\u001b[1;34m(self, key)\u001b[0m\n\u001b[0;32m   4295\u001b[0m         \u001b[1;32mif\u001b[0m \u001b[0mis_scalar\u001b[0m\u001b[1;33m(\u001b[0m\u001b[0mkey\u001b[0m\u001b[1;33m)\u001b[0m\u001b[1;33m:\u001b[0m\u001b[1;33m\u001b[0m\u001b[1;33m\u001b[0m\u001b[0m\n\u001b[0;32m   4296\u001b[0m             \u001b[0mkey\u001b[0m \u001b[1;33m=\u001b[0m \u001b[0mcom\u001b[0m\u001b[1;33m.\u001b[0m\u001b[0mcast_scalar_indexer\u001b[0m\u001b[1;33m(\u001b[0m\u001b[0mkey\u001b[0m\u001b[1;33m,\u001b[0m \u001b[0mwarn_float\u001b[0m\u001b[1;33m=\u001b[0m\u001b[1;32mTrue\u001b[0m\u001b[1;33m)\u001b[0m\u001b[1;33m\u001b[0m\u001b[1;33m\u001b[0m\u001b[0m\n\u001b[1;32m-> 4297\u001b[1;33m             \u001b[1;32mreturn\u001b[0m \u001b[0mgetitem\u001b[0m\u001b[1;33m(\u001b[0m\u001b[0mkey\u001b[0m\u001b[1;33m)\u001b[0m\u001b[1;33m\u001b[0m\u001b[1;33m\u001b[0m\u001b[0m\n\u001b[0m\u001b[0;32m   4298\u001b[0m \u001b[1;33m\u001b[0m\u001b[0m\n\u001b[0;32m   4299\u001b[0m         \u001b[1;32mif\u001b[0m \u001b[0misinstance\u001b[0m\u001b[1;33m(\u001b[0m\u001b[0mkey\u001b[0m\u001b[1;33m,\u001b[0m \u001b[0mslice\u001b[0m\u001b[1;33m)\u001b[0m\u001b[1;33m:\u001b[0m\u001b[1;33m\u001b[0m\u001b[1;33m\u001b[0m\u001b[0m\n",
      "\u001b[1;31mIndexError\u001b[0m: index 0 is out of bounds for axis 0 with size 0"
     ]
    }
   ],
   "source": [
    "list_compare = []\n",
    "for df_rp in fu_df:\n",
    "    t = compare_fun(df_rp,data_df)\n",
    "    list_compare.append(t)"
   ]
  }
 ]
}