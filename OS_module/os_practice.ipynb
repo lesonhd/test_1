{
 "cells": [
  {
   "cell_type": "code",
   "execution_count": 5,
   "source": [
    "import os\r\n",
    "# Tạo folder\r\n",
    "# os.makedirs('test_folder')    \r\n",
    "\r\n",
    "# #xóa folder\r\n",
    "# os.rmdir('test_folder')\r\n",
    "\r\n",
    "# #Xóa file\r\n",
    "# os.remove('1_2.TXT')                \r\n",
    "\r\n",
    "# Đổi tên file\r\n",
    "# os.rename('234.TXT', '678.TXT')\r\n",
    "\r\n",
    "# Mở file\r\n",
    "# os.startfile('678.TXT')\r\n",
    "\r\n",
    "mPath = r'D:\\Study\\15.Python\\test_1\\OS_module\\678.TXT'\r\n",
    "\r\n",
    "# Lấy tên file\r\n",
    "# os.path.basename(mPath)\r\n",
    "\r\n",
    "# Lấy tên dường dẫn thư mục chưa file\r\n",
    "# os.path.dirname(mPath)\r\n",
    "\r\n",
    "# Kiểm tra file hoặc đường dẫn có tồn tại hay không\r\n",
    "# os.path.exists(mPath)\r\n",
    "\r\n",
    "# Kiểm tra xem có phải là file ko\r\n",
    "# os.path.isfile(mPath)\r\n",
    "\r\n",
    "# Kiểm tra xem có phải đường dẫn không\r\n",
    "# os.path.isdir(mPath)\r\n",
    "\r\n",
    "# Tách đường dẫn\r\n",
    "mPath1 = os.path.split(mPath)\r\n",
    "mPath1\r\n",
    "\r\n",
    "# Nnối đường dẫn\r\n",
    "mPath_2 = os.path.join(mPath1[0],mPath1[1])\r\n",
    "\r\n"
   ],
   "outputs": [
    {
     "output_type": "execute_result",
     "data": {
      "text/plain": [
       "'D:\\\\Study\\\\15.Python\\\\test_1\\\\OS_module\\\\678.TXT'"
      ]
     },
     "metadata": {},
     "execution_count": 5
    }
   ],
   "metadata": {}
  }
 ],
 "metadata": {
  "orig_nbformat": 4,
  "language_info": {
   "name": "python",
   "version": "3.9.5",
   "mimetype": "text/x-python",
   "codemirror_mode": {
    "name": "ipython",
    "version": 3
   },
   "pygments_lexer": "ipython3",
   "nbconvert_exporter": "python",
   "file_extension": ".py"
  },
  "kernelspec": {
   "name": "python3",
   "display_name": "Python 3.9.5 64-bit"
  },
  "interpreter": {
   "hash": "ac59ebe37160ed0dfa835113d9b8498d9f09ceb179beaac4002f036b9467c963"
  }
 },
 "nbformat": 4,
 "nbformat_minor": 2
}