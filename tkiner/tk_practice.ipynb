{
 "metadata": {
  "language_info": {
   "codemirror_mode": {
    "name": "ipython",
    "version": 3
   },
   "file_extension": ".py",
   "mimetype": "text/x-python",
   "name": "python",
   "nbconvert_exporter": "python",
   "pygments_lexer": "ipython3",
   "version": "3.9.5"
  },
  "orig_nbformat": 2,
  "kernelspec": {
   "name": "python3",
   "display_name": "Python 3.9.5 64-bit"
  },
  "interpreter": {
   "hash": "ac59ebe37160ed0dfa835113d9b8498d9f09ceb179beaac4002f036b9467c963"
  }
 },
 "nbformat": 4,
 "nbformat_minor": 2,
 "cells": [
  {
   "cell_type": "code",
   "execution_count": 1,
   "source": [
    "from tkinter import *\r\n",
    "from tkinter import filedialog\r\n",
    "import tkinter as tk\r\n",
    "import os\r\n",
    "\r\n",
    "Root_tk = Tk()\r\n",
    "\r\n",
    "# mở file luôn\r\n",
    "# m_file = filedialog.askopenfile(title=\"Chon File cần mở\")\r\n",
    "# Lấy tên file theo dòng lệnh trên\r\n",
    "# m_file.name\r\n",
    "\r\n",
    "# Lấy trực tiếp tên file để mở\r\n",
    "\r\n",
    "file_2 = filedialog.askopenfilename(title=\"chọn file\")\r\n",
    "\r\n",
    "\r\n",
    "#  mở file bằng os khi file ko cần chọn ứng dụng để mở\r\n",
    "os.startfile(file_2)\r\n",
    "# print (m_file.name)\r\n",
    "os.close(file_2)"
   ],
   "outputs": [],
   "metadata": {}
  },
  {
   "cell_type": "code",
   "execution_count": 3,
   "source": [
    "type(file_2)"
   ],
   "outputs": [
    {
     "output_type": "execute_result",
     "data": {
      "text/plain": [
       "str"
      ]
     },
     "metadata": {},
     "execution_count": 3
    }
   ],
   "metadata": {}
  }
 ]
}